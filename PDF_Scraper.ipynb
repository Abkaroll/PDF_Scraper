{
 "cells": [
  {
   "cell_type": "code",
   "execution_count": 1,
   "metadata": {},
   "outputs": [],
   "source": [
    "import PyPDF2"
   ]
  },
  {
   "cell_type": "code",
   "execution_count": 2,
   "metadata": {},
   "outputs": [],
   "source": [
    "import numpy as np"
   ]
  },
  {
   "cell_type": "code",
   "execution_count": 3,
   "metadata": {},
   "outputs": [
    {
     "name": "stdout",
     "output_type": "stream",
     "text": [
      "Hello Jupyter World!; You are helping me learn\n"
     ]
    }
   ],
   "source": [
    "print (\"Hello Jupyter World!; You are helping me learn\")"
   ]
  },
  {
   "cell_type": "code",
   "execution_count": 4,
   "metadata": {},
   "outputs": [
    {
     "name": "stdout",
     "output_type": "stream",
     "text": [
      "[ 0  1  2  3  4  5  6  7  8  9 10]\n"
     ]
    }
   ],
   "source": [
    "import numpy as np\n",
    "my_first_array = np.arange(11)\n",
    "print (my_first_array)"
   ]
  },
  {
   "cell_type": "code",
   "execution_count": 10,
   "metadata": {},
   "outputs": [],
   "source": [
    "pdfFileObj = open('C:/Users/crazy/Desktop/Surveys_Syria.pdf', 'rb')"
   ]
  },
  {
   "cell_type": "code",
   "execution_count": 8,
   "metadata": {},
   "outputs": [
    {
     "name": "stdout",
     "output_type": "stream",
     "text": [
      " Volume in drive C has no label.\n",
      " Volume Serial Number is 9ECC-4B07\n",
      "\n",
      " Directory of C:\\Users\\crazy\\Desktop\n",
      "\n",
      "10/16/2018  08:31 AM    <DIR>          .\n",
      "10/16/2018  08:31 AM    <DIR>          ..\n",
      "10/05/2018  06:02 PM    <DIR>          ArcPy\n",
      "10/13/2018  12:04 PM        12,206,722 Bibliographie-der-archaologischen-Fundstellen-und-Surveys-in-Syrien-und-Libanon-Deutsches-Archaologisches-Institut-Orient-Abteilung-Orient-Archaologie-.pdf\n",
      "09/05/2018  08:38 AM           104,677 Capture.JPG\n",
      "10/08/2018  09:16 AM            63,621 Captures.JPG\n",
      "09/28/2018  08:43 PM         2,226,393 DAndrea 2018_CMAO XVIII_FS Scandone.pdf\n",
      "10/15/2018  04:32 PM    <DIR>          Dissertation\n",
      "10/02/2018  03:34 PM    <DIR>          Dissertation_Randoms\n",
      "10/10/2018  11:05 AM    <DIR>          Funsies\n",
      "10/06/2018  01:31 PM    <DIR>          IPeedOnThat\n",
      "10/07/2018  12:39 PM         5,408,924 Iron_II.dbf\n",
      "06/14/2018  04:38 PM            49,078 Karoll - Stipend Payment Options Form.docx\n",
      "06/02/2017  02:20 AM             1,158 MeshLab.lnk\n",
      "10/15/2018  02:29 PM    <DIR>          Moise\n",
      "08/17/2018  07:32 PM         5,326,653 Rent app Sergio.pdf\n",
      "02/05/2017  09:32 AM             1,850 Spotify.lnk\n",
      "10/16/2018  08:32 AM        12,206,768 Surveys_Syria.pdf\n",
      "10/08/2018  07:23 PM    <DIR>          swapi-python-master\n",
      "10/06/2018  09:57 AM    <DIR>          tabula-py-master\n",
      "              10 File(s)     37,595,844 bytes\n",
      "              10 Dir(s)   9,847,341,056 bytes free\n"
     ]
    }
   ],
   "source": [
    "!dir Desktop"
   ]
  },
  {
   "cell_type": "code",
   "execution_count": 11,
   "metadata": {},
   "outputs": [
    {
     "data": {
      "text/plain": [
       "<_io.BufferedReader name='C:/Users/crazy/Desktop/Surveys_Syria.pdf'>"
      ]
     },
     "execution_count": 11,
     "metadata": {},
     "output_type": "execute_result"
    }
   ],
   "source": [
    "pdfFileObj"
   ]
  },
  {
   "cell_type": "code",
   "execution_count": 16,
   "metadata": {},
   "outputs": [
    {
     "data": {
      "text/plain": [
       "0"
      ]
     },
     "execution_count": 16,
     "metadata": {},
     "output_type": "execute_result"
    }
   ],
   "source": [
    "pdfFileObj.seek(0)"
   ]
  },
  {
   "cell_type": "code",
   "execution_count": 18,
   "metadata": {},
   "outputs": [],
   "source": [
    "pdfReader = PyPDF2.PdfFileReader(pdfFileObj)"
   ]
  },
  {
   "cell_type": "code",
   "execution_count": 19,
   "metadata": {},
   "outputs": [
    {
     "data": {
      "text/plain": [
       "1158"
      ]
     },
     "execution_count": 19,
     "metadata": {},
     "output_type": "execute_result"
    }
   ],
   "source": [
    "pdfReader.numPages"
   ]
  },
  {
   "cell_type": "code",
   "execution_count": 21,
   "metadata": {},
   "outputs": [],
   "source": [
    "pageObj = pdfReader.getPage(35)"
   ]
  },
  {
   "cell_type": "code",
   "execution_count": 22,
   "metadata": {},
   "outputs": [
    {
     "data": {
      "text/plain": [
       "{'/Contents': {'/Filter': '/FlateDecode'},\n",
       " '/CropBox': [0, 0, 612, 792],\n",
       " '/MediaBox': [0, 0, 612, 792],\n",
       " '/Parent': {'/Count': 5,\n",
       "  '/Kids': [IndirectObject(80, 0),\n",
       "   IndirectObject(82, 0),\n",
       "   IndirectObject(84, 0),\n",
       "   IndirectObject(86, 0),\n",
       "   IndirectObject(88, 0)],\n",
       "  '/Parent': {'/Count': 25,\n",
       "   '/Kids': [IndirectObject(83213, 0),\n",
       "    IndirectObject(83214, 0),\n",
       "    IndirectObject(83215, 0),\n",
       "    IndirectObject(83216, 0),\n",
       "    IndirectObject(83217, 0)],\n",
       "   '/Parent': {'/Count': 159,\n",
       "    '/Kids': [IndirectObject(83203, 0),\n",
       "     IndirectObject(83209, 0),\n",
       "     IndirectObject(83212, 0),\n",
       "     IndirectObject(83218, 0),\n",
       "     IndirectObject(83224, 0),\n",
       "     IndirectObject(83230, 0),\n",
       "     IndirectObject(83236, 0)],\n",
       "    '/Parent': {'/Count': 1158,\n",
       "     '/Kids': [IndirectObject(83202, 0),\n",
       "      IndirectObject(83242, 0),\n",
       "      IndirectObject(83273, 0),\n",
       "      IndirectObject(83304, 0),\n",
       "      IndirectObject(83335, 0),\n",
       "      IndirectObject(83366, 0),\n",
       "      IndirectObject(83397, 0),\n",
       "      IndirectObject(83428, 0),\n",
       "      IndirectObject(83459, 0)],\n",
       "     '/Type': '/Pages'},\n",
       "    '/Type': '/Pages'},\n",
       "   '/Type': '/Pages'},\n",
       "  '/Type': '/Pages'},\n",
       " '/Resources': {'/ExtGState': {'/GS0': {'/OP': <PyPDF2.generic.BooleanObject at 0x154b4a67be0>,\n",
       "    '/OPM': 1,\n",
       "    '/SA': <PyPDF2.generic.BooleanObject at 0x154b4a792b0>,\n",
       "    '/SM': 0.02,\n",
       "    '/Type': '/ExtGState',\n",
       "    '/op': <PyPDF2.generic.BooleanObject at 0x154b4a79a58>}},\n",
       "  '/Font': {'/TT0': {'/BaseFont': '/DEFPIE+TimesNewRomanPSMT',\n",
       "    '/Encoding': '/WinAnsiEncoding',\n",
       "    '/FirstChar': 32,\n",
       "    '/FontDescriptor': {'/Ascent': 891,\n",
       "     '/CapHeight': 656,\n",
       "     '/Descent': -216,\n",
       "     '/Flags': 34,\n",
       "     '/FontBBox': [-568, -307, 2000, 1007],\n",
       "     '/FontFamily': 'Times New Roman',\n",
       "     '/FontFile2': {'/Filter': '/FlateDecode', '/Length1': 82452},\n",
       "     '/FontName': '/DEFPIE+TimesNewRomanPSMT',\n",
       "     '/FontStretch': '/Normal',\n",
       "     '/FontWeight': 400,\n",
       "     '/ItalicAngle': 0,\n",
       "     '/StemV': 82,\n",
       "     '/Type': '/FontDescriptor',\n",
       "     '/XHeight': 0},\n",
       "    '/LastChar': 252,\n",
       "    '/Subtype': '/TrueType',\n",
       "    '/Type': '/Font',\n",
       "    '/Widths': [250,\n",
       "     333,\n",
       "     408,\n",
       "     0,\n",
       "     0,\n",
       "     833,\n",
       "     778,\n",
       "     180,\n",
       "     333,\n",
       "     333,\n",
       "     500,\n",
       "     564,\n",
       "     250,\n",
       "     333,\n",
       "     250,\n",
       "     278,\n",
       "     500,\n",
       "     500,\n",
       "     500,\n",
       "     500,\n",
       "     500,\n",
       "     500,\n",
       "     500,\n",
       "     500,\n",
       "     500,\n",
       "     500,\n",
       "     278,\n",
       "     278,\n",
       "     0,\n",
       "     564,\n",
       "     0,\n",
       "     444,\n",
       "     0,\n",
       "     722,\n",
       "     667,\n",
       "     667,\n",
       "     722,\n",
       "     611,\n",
       "     556,\n",
       "     722,\n",
       "     722,\n",
       "     333,\n",
       "     389,\n",
       "     722,\n",
       "     611,\n",
       "     889,\n",
       "     722,\n",
       "     722,\n",
       "     556,\n",
       "     722,\n",
       "     667,\n",
       "     556,\n",
       "     611,\n",
       "     722,\n",
       "     722,\n",
       "     944,\n",
       "     722,\n",
       "     722,\n",
       "     611,\n",
       "     333,\n",
       "     0,\n",
       "     333,\n",
       "     0,\n",
       "     500,\n",
       "     333,\n",
       "     444,\n",
       "     500,\n",
       "     444,\n",
       "     500,\n",
       "     444,\n",
       "     333,\n",
       "     500,\n",
       "     500,\n",
       "     278,\n",
       "     278,\n",
       "     500,\n",
       "     278,\n",
       "     778,\n",
       "     500,\n",
       "     500,\n",
       "     500,\n",
       "     500,\n",
       "     333,\n",
       "     389,\n",
       "     278,\n",
       "     500,\n",
       "     500,\n",
       "     722,\n",
       "     500,\n",
       "     500,\n",
       "     444,\n",
       "     0,\n",
       "     0,\n",
       "     0,\n",
       "     0,\n",
       "     0,\n",
       "     0,\n",
       "     0,\n",
       "     0,\n",
       "     0,\n",
       "     444,\n",
       "     0,\n",
       "     0,\n",
       "     0,\n",
       "     0,\n",
       "     0,\n",
       "     556,\n",
       "     0,\n",
       "     0,\n",
       "     0,\n",
       "     0,\n",
       "     0,\n",
       "     0,\n",
       "     0,\n",
       "     333,\n",
       "     444,\n",
       "     444,\n",
       "     0,\n",
       "     0,\n",
       "     0,\n",
       "     0,\n",
       "     0,\n",
       "     389,\n",
       "     0,\n",
       "     0,\n",
       "     0,\n",
       "     0,\n",
       "     0,\n",
       "     0,\n",
       "     0,\n",
       "     0,\n",
       "     0,\n",
       "     0,\n",
       "     0,\n",
       "     0,\n",
       "     500,\n",
       "     0,\n",
       "     0,\n",
       "     0,\n",
       "     0,\n",
       "     0,\n",
       "     0,\n",
       "     0,\n",
       "     0,\n",
       "     0,\n",
       "     0,\n",
       "     0,\n",
       "     0,\n",
       "     333,\n",
       "     536,\n",
       "     0,\n",
       "     0,\n",
       "     0,\n",
       "     0,\n",
       "     0,\n",
       "     0,\n",
       "     0,\n",
       "     0,\n",
       "     0,\n",
       "     0,\n",
       "     722,\n",
       "     0,\n",
       "     722,\n",
       "     0,\n",
       "     722,\n",
       "     0,\n",
       "     0,\n",
       "     0,\n",
       "     611,\n",
       "     611,\n",
       "     0,\n",
       "     0,\n",
       "     0,\n",
       "     0,\n",
       "     333,\n",
       "     0,\n",
       "     0,\n",
       "     0,\n",
       "     0,\n",
       "     0,\n",
       "     0,\n",
       "     0,\n",
       "     722,\n",
       "     0,\n",
       "     0,\n",
       "     0,\n",
       "     722,\n",
       "     0,\n",
       "     722,\n",
       "     0,\n",
       "     0,\n",
       "     500,\n",
       "     444,\n",
       "     444,\n",
       "     444,\n",
       "     0,\n",
       "     444,\n",
       "     0,\n",
       "     667,\n",
       "     444,\n",
       "     444,\n",
       "     444,\n",
       "     444,\n",
       "     444,\n",
       "     278,\n",
       "     278,\n",
       "     278,\n",
       "     278,\n",
       "     0,\n",
       "     500,\n",
       "     500,\n",
       "     500,\n",
       "     500,\n",
       "     0,\n",
       "     500,\n",
       "     0,\n",
       "     500,\n",
       "     500,\n",
       "     500,\n",
       "     500,\n",
       "     500]}},\n",
       "  '/ProcSet': ['/PDF', '/Text']},\n",
       " '/Rotate': 0,\n",
       " '/StructParents': 64,\n",
       " '/Type': '/Page'}"
      ]
     },
     "execution_count": 22,
     "metadata": {},
     "output_type": "execute_result"
    }
   ],
   "source": [
    "pageObj"
   ]
  },
  {
   "cell_type": "code",
   "execution_count": 24,
   "metadata": {},
   "outputs": [
    {
     "name": "stdout",
     "output_type": "stream",
     "text": [
      "Anderson-Gerfaud, P.: A Consideration of the Uses of Certain Backed and ´Lustred´ Stone Tools from \n",
      "Late Mesolithic and Natufian \n",
      "Levels of Abu Hureyra and Mure\n",
      "ybet (Syria). in: Cauvin, M.-C. (ed.): Traces d'utilisation sur les outils néolit\n",
      "hiques du Proche-Orient. T.M.O. 5: Lyon 1983: \n",
      "77-105 Beaulieu, J.R.: Prehistoric Foragers Along the Northern Euphrates: A Linear Programming Model for Epipaleolithic Abu Hureyra, Syria. MA Thes\n",
      "is University of Texas at Arlington 1996 \n",
      "Burkhalter, L.: Bibliographie préhistorique. BMB 8(1946-48)129-153, 9(1949-50)7-16 Nr. 14 Burleigh, R. et al.: British Museum Natura\n",
      "l Radiocarbon Measurements XIII. Radiocarbon \n",
      "24.2(1982)151-170 Cauvin, J.: Les débuts de la céramique sur le \n",
      "Moyen Euphrate: Nouveux documents. Paléorient \n",
      "2(1974)199-205 Hillman, G.: The Plant Remains from Tell Abu Hureyra: A Preliminary Report. Proceedings of the \n",
      "Prehistory Society 41(1975)70-73 \n",
      "Hillman, G.; Colledge, S.; Harris, D.R.; Harris, \n",
      "D.: Plant-Food Economy during the Epipalaeolithic \n",
      "Period at Tell Abu Hureyra, Syria: Dietary, Diversity, Seasonalit\n",
      "y in a Riverine Environment. \n",
      "in: Harris, D.; Hillman, G. (eds.): Foraging and Farming: The Evolution of Plant Exploitation. \n",
      "London 1986: 240-268 Hillman, G. et al.: On the Charred Seeds from Ep\n",
      "ipaleolithic Abu Hureyra: Food or Fuel? Current \n",
      "Anthropology 38(1997)651-659 Hours, F. et al.: Atlas des sites du Proche Orient (14000-5700 BP). Travaux de la Maison de l'Orient \n",
      "Méditerranéen 24: Lyon, Paris 1994: 40-41 Jabali, Y.: Le minaret de Abou Houreira. in: Anti\n",
      "quités de l'Euphrate. Musée National d'Alep: Alep \n",
      "1974: 19-20 Legge, A.; Rowley-Conwy, P.: New Radio-carbon Dates for Early Sheep at Tell Abu Hureyra. in: \n",
      "Gowlett, J.; Hedges, R. (eds.): Archaeologi\n",
      "cal Results from Accelerator Dating. OCAM \n",
      "11(1986)23-35 Loon, M. van: The Tabqa Reservoir Survey of 1964. Publication du Direction Général des Antiquités: Damas 1967: Nr. 545 \n",
      "Maréchal, C.: Eléments de parure de la fin du \n",
      "Natoufien: Mallaha niveau I, Jayroud 1, Jayroud 3, Jayroud 9, Abu Hureyra et Mureybet IA. in: Bar-Yosef, O.; Valla, F. (eds.): The Natufian Culture in the Levant. International Monographs in Prehistory, Archaeological Series 1. Ann Arbor 1992: 589-613 Molleson, T.: The Eloquent Bones of Abu Hure\n",
      "yra. Scientific American, August 1994: 70-75 \n",
      "Molleson, T.; Jones, K.: Dental Evidence for Dietary \n",
      "Change at Abu Hureyra, Northern Syria. Journal of Archaeological Science 18(1991)525-539 Molleson, T.; Comerford, G.; Moore, A.: A Neolithic \n",
      "Painted Skull from Tell Abu Hureyra, Northern \n",
      "Syria. Cambridge Archaeological Journal 2.2(1991)231-236 \n",
      "Molleson, T.; Jones, K.; Jones, S.: Dietary Change\n",
      " and the Effects of Food Preparation on Microwear Patterns in the Late Neolithic of Abu Hureyra,\n",
      " Northern Syria. Journal of Human Evolution \n",
      "24.6(1993)455-468 Moore, A.M.T.: Tell Abou Houreira. in: Antiquités de l'Euphrate. Musée National d'Alep: Alep 1974: \n",
      "51-54 Moore, A.M.T.: The Excavation at Tell Abu Hureyra. AAAS 25(1975)115-127 Moore, A.M.T.: The Excavations of Tell Abu Hureyra in Syria: A Preliminary Report. ProcPrehistSoc \n",
      "41(1975)50-77 Moore, A.M.T.: A Pre-Pottery Neolithic Farmer's\n",
      " Village on the Euphrates. Scientific America \n",
      "241(Aug. 1979)62-70 \n"
     ]
    }
   ],
   "source": [
    "print(pageObj.extractText())"
   ]
  },
  {
   "cell_type": "code",
   "execution_count": 25,
   "metadata": {},
   "outputs": [],
   "source": [
    "pdfContents = \"\"\n",
    "for pageNum in range(1, pdfReader.numPages):\n",
    "    pageObj = pdfReader.getPage(pageNum)\n",
    "    pdfContents += pageObj.extractText()\n",
    "    pdfContents += \"\\n\""
   ]
  },
  {
   "cell_type": "code",
   "execution_count": 28,
   "metadata": {
    "scrolled": false
   },
   "outputs": [],
   "source": [
    "with open('Scraped_Syria.txt', 'w', encoding='UTF-8') as fh:\n",
    "    fh.write(pdfContents)"
   ]
  },
  {
   "cell_type": "code",
   "execution_count": null,
   "metadata": {},
   "outputs": [],
   "source": []
  }
 ],
 "metadata": {
  "kernelspec": {
   "display_name": "Python 3",
   "language": "python",
   "name": "python3"
  },
  "language_info": {
   "codemirror_mode": {
    "name": "ipython",
    "version": 3
   },
   "file_extension": ".py",
   "mimetype": "text/x-python",
   "name": "python",
   "nbconvert_exporter": "python",
   "pygments_lexer": "ipython3",
   "version": "3.6.5"
  }
 },
 "nbformat": 4,
 "nbformat_minor": 2
}
